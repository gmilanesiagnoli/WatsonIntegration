{
    "metadata": {
        "kernelspec": {
            "name": "python3",
            "display_name": "Python 3.11",
            "language": "python"
        },
        "language_info": {
            "name": "python",
            "version": "3.11.9",
            "mimetype": "text/x-python",
            "codemirror_mode": {
                "name": "ipython",
                "version": 3
            },
            "pygments_lexer": "ipython3",
            "nbconvert_exporter": "python",
            "file_extension": ".py"
        }
    },
    "nbformat_minor": 4,
    "nbformat": 4,
    "cells": [
        {
            "cell_type": "markdown",
            "source": "My Jupyter Notebook on IBM Watson Studio",
            "metadata": {
                "collapsed": true,
                "jupyter": {
                    "outputs_hidden": true
                },
                "id": "80a41c77-1352-4f17-822b-78a198509af1"
            }
        },
        {
            "cell_type": "markdown",
            "source": "**Giuseppe**  \nProduct Marketing Manager",
            "metadata": {
                "id": "9c49f30a-a135-4b6a-9a20-5921264088ad"
            }
        },
        {
            "cell_type": "markdown",
            "source": "* *Interested in data science with the growth/importance of IT*\n* *Interested in data science to apply it at work*",
            "metadata": {
                "id": "575114cd-589d-479e-a27e-cf797681b98c"
            }
        },
        {
            "cell_type": "markdown",
            "source": "### Math Code",
            "metadata": {
                "id": "b83c1741-b722-445c-8588-f9e9feab480c"
            }
        },
        {
            "cell_type": "code",
            "source": "age = 21\nnation = \"italian\"\nname = \"Carlotta\"\n\nprint(f\"{name} is {nation} and is {age}\")",
            "metadata": {
                "id": "fcf3abf6-6e08-4ea7-b381-31391e673206"
            },
            "outputs": [
                {
                    "name": "stdout",
                    "text": "Carlotta is italian and is 21\n",
                    "output_type": "stream"
                }
            ],
            "execution_count": 7
        },
        {
            "cell_type": "markdown",
            "source": "### Bullet points\n* BP1\n* BP2\n* BP3\n\n### Numbered List\n1. BP #1\n2. BP #2\n3. BP #3\n    4. BP #3.1\n\n### Table \n| Header |\n| :---: |\n| Row 1 |\n| Row 2 |\n| Row ...|\n\n### Image\n![Google Logo](https://www.google.com/images/branding/googlelogo/2x/googlelogo_color_92x30dp.png)\n\n### Hyperlink\n[Google Link](www.google.com)",
            "metadata": {
                "id": "fb2f8b1b-25f4-45dc-ba77-32966887d0db"
            }
        },
        {
            "cell_type": "code",
            "source": "",
            "metadata": {
                "id": "dbed3ee7-b4dc-4500-864f-c83806e724e5"
            },
            "outputs": [],
            "execution_count": null
        }
    ]
}