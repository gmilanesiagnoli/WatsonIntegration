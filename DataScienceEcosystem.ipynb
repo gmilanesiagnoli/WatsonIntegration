{
    "cells": [
        {
            "cell_type": "markdown",
            "id": "929af723-9743-422c-ae33-de2b59328235",
            "metadata": {},
            "source": "# Data Science Tools and Ecosystem"
        },
        {
            "cell_type": "markdown",
            "id": "5ce74af7-aa61-46c4-a777-dc97409e44a0",
            "metadata": {},
            "source": "Some of the popular languages that Data Scientists use are:\n1. **R**\n2. **Python**\n3. **SQL**"
        },
        {
            "cell_type": "markdown",
            "id": "6ef6ae82-f01b-4daa-8d28-7fb000d164b0",
            "metadata": {},
            "source": "A data science environment typically consists of a combination of tools, frameworks, resources. Includes:\n\n| Data Science Tools |\n| :--- |\n| Jupyter Notebook/JupyterLab/Jupyter Lite|\n| Google Collab |\n| Anaconda |\n| RStudio |\n| VS Code (Visual Studio Code) |\n| MATLAB |"
        },
        {
            "cell_type": "markdown",
            "id": "69ad77c8-2bea-479c-aa32-d936d77fbf28",
            "metadata": {},
            "source": "### Below are a few examples of evaluating arithmetic expressions in Python."
        },
        {
            "cell_type": "code",
            "execution_count": 1,
            "id": "a74839c7-33d4-47c2-a830-6adb9395954f",
            "metadata": {
                "id": "e8e8efb7-d92d-4378-a484-3f1f1b2d81a9"
            },
            "outputs": [
                {
                    "name": "stdout",
                    "output_type": "stream",
                    "text": "17\n"
                },
                {
                    "data": {
                        "text/plain": "17"
                    },
                    "execution_count": 1,
                    "metadata": {},
                    "output_type": "execute_result"
                }
            ],
            "source": "## This a simple arithmetic expression to mutiply then add integers.\n\na = (3*4)+5  ## Solution 1\nprint (a)\n\n(3*4)+5  ## Solution 2 - Alternative"
        },
        {
            "cell_type": "code",
            "execution_count": null,
            "id": "a9d3f7a0-cbe6-4474-80dc-351e4c80430e",
            "metadata": {
                "id": "a9d3f7a0-cbe6-4474-80dc-351e4c80430e"
            },
            "outputs": [],
            "source": ""
        }
    ],
    "metadata": {
        "kernelspec": {
            "display_name": "Python 3.11",
            "language": "python",
            "name": "python3"
        },
        "language_info": {
            "codemirror_mode": {
                "name": "ipython",
                "version": 3
            },
            "file_extension": ".py",
            "mimetype": "text/x-python",
            "name": "python",
            "nbconvert_exporter": "python",
            "pygments_lexer": "ipython3",
            "version": "3.11.9"
        }
    },
    "nbformat": 4,
    "nbformat_minor": 5
}